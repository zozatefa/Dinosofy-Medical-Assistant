{
 "cells": [
  {
   "cell_type": "code",
   "execution_count": null,
   "metadata": {
    "vscode": {
     "languageId": "plaintext"
    }
   },
   "outputs": [],
   "source": [
    "import pandas as pd\n",
    "import os\n",
    "\n",
    "desies_list = []\n",
    "datasets_path = './DataSets'\n",
    "\n",
    "for csv_file in os.listdir(datasets_path):    \n",
    "    if csv_file.endswith('.csv'):\n",
    "        df = pd.read_csv(os.path.join(datasets_path, csv_file)).drop_duplicates()\n",
    "        \n",
    "        for index, row in df.iterrows():\n",
    "            symptoms = []\n",
    "            for col in df.columns:\n",
    "                if col == 'prognosis':\n",
    "                    continue  # ما نستخدمش التشخيص كعرض\n",
    "                if row[col] == 1:\n",
    "                    symptoms.append(f\"يعاني من {col}\")\n",
    "                elif row[col] == 0:\n",
    "                    symptoms.append(f\"لا يعاني من {col}\")\n",
    "            \n",
    "            sentence = ', '.join(symptoms)\n",
    "            diagnosis = row['prognosis']\n",
    "            sentence += f\". التشخيص: {diagnosis}\"\n",
    "            desies_list.append(sentence)\n",
    "            print(sentence)\n"
   ]
  }
 ],
 "metadata": {
  "language_info": {
   "name": "python"
  }
 },
 "nbformat": 4,
 "nbformat_minor": 2
}
